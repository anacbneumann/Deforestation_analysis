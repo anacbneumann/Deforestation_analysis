{
 "cells": [
  {
   "attachments": {},
   "cell_type": "markdown",
   "id": "d30abd48",
   "metadata": {},
   "source": [
    "# Deforestation Dataset\n",
    "---\n",
    "An exploratory analysis. \n",
    "\n",
    "LINK: https://www.kaggle.com/datasets/konradb/deforestation-dataset?resource=download"
   ]
  },
  {
   "attachments": {},
   "cell_type": "markdown",
   "id": "ede4a07f",
   "metadata": {},
   "source": [
    "Importing libraries:"
   ]
  },
  {
   "cell_type": "code",
   "execution_count": 1,
   "id": "1d448790",
   "metadata": {},
   "outputs": [],
   "source": [
    "import pandas as pd"
   ]
  },
  {
   "attachments": {},
   "cell_type": "markdown",
   "id": "e9938241",
   "metadata": {},
   "source": [
    "Importing Data:"
   ]
  },
  {
   "cell_type": "code",
   "execution_count": 2,
   "id": "db45875d",
   "metadata": {},
   "outputs": [
    {
     "data": {
      "text/html": [
       "<div>\n",
       "<style scoped>\n",
       "    .dataframe tbody tr th:only-of-type {\n",
       "        vertical-align: middle;\n",
       "    }\n",
       "\n",
       "    .dataframe tbody tr th {\n",
       "        vertical-align: top;\n",
       "    }\n",
       "\n",
       "    .dataframe thead th {\n",
       "        text-align: right;\n",
       "    }\n",
       "</style>\n",
       "<table border=\"1\" class=\"dataframe\">\n",
       "  <thead>\n",
       "    <tr style=\"text-align: right;\">\n",
       "      <th></th>\n",
       "      <th>iso3c</th>\n",
       "      <th>forests_2000</th>\n",
       "      <th>forests_2020</th>\n",
       "      <th>trend</th>\n",
       "    </tr>\n",
       "  </thead>\n",
       "  <tbody>\n",
       "    <tr>\n",
       "      <th>0</th>\n",
       "      <td>AFG</td>\n",
       "      <td>1.9</td>\n",
       "      <td>1.9</td>\n",
       "      <td>0.0</td>\n",
       "    </tr>\n",
       "    <tr>\n",
       "      <th>1</th>\n",
       "      <td>ALB</td>\n",
       "      <td>28.1</td>\n",
       "      <td>28.8</td>\n",
       "      <td>2.5</td>\n",
       "    </tr>\n",
       "    <tr>\n",
       "      <th>2</th>\n",
       "      <td>DZA</td>\n",
       "      <td>0.7</td>\n",
       "      <td>0.8</td>\n",
       "      <td>14.3</td>\n",
       "    </tr>\n",
       "    <tr>\n",
       "      <th>3</th>\n",
       "      <td>ASM</td>\n",
       "      <td>88.7</td>\n",
       "      <td>85.7</td>\n",
       "      <td>-3.4</td>\n",
       "    </tr>\n",
       "    <tr>\n",
       "      <th>4</th>\n",
       "      <td>AND</td>\n",
       "      <td>34.0</td>\n",
       "      <td>34.0</td>\n",
       "      <td>0.0</td>\n",
       "    </tr>\n",
       "  </tbody>\n",
       "</table>\n",
       "</div>"
      ],
      "text/plain": [
       "  iso3c  forests_2000  forests_2020  trend\n",
       "0   AFG           1.9           1.9    0.0\n",
       "1   ALB          28.1          28.8    2.5\n",
       "2   DZA           0.7           0.8   14.3\n",
       "3   ASM          88.7          85.7   -3.4\n",
       "4   AND          34.0          34.0    0.0"
      ]
     },
     "execution_count": 2,
     "metadata": {},
     "output_type": "execute_result"
    }
   ],
   "source": [
    "# Defining the path to file:\n",
    "path = 'goal15.forest_shares.csv'\n",
    "\n",
    "# Assigning dataframe to a variable:\n",
    "df = pd.read_csv(path)\n",
    "\n",
    "# Preview:\n",
    "df.head(5)"
   ]
  },
  {
   "attachments": {},
   "cell_type": "markdown",
   "id": "ca396fbe",
   "metadata": {},
   "source": [
    "### Firsts Steps:\n",
    "\n",
    "- Removing unecessary columns;\n",
    "\n",
    "- Renaming columns;\n",
    "\n",
    "- Checking duplicates;\n",
    "\n",
    "- Checking types;\n",
    "\n",
    "- Main informations: mean, median, countrows, min and max."
   ]
  },
  {
   "attachments": {},
   "cell_type": "markdown",
   "id": "92b54c6f",
   "metadata": {},
   "source": [
    " As the column trend is the percentual of growth or decrease between 2020 and 2000 we will remove it. Because is not a new information, but a relation between the other columns."
   ]
  },
  {
   "cell_type": "code",
   "execution_count": 3,
   "id": "dd78b622",
   "metadata": {},
   "outputs": [
    {
     "data": {
      "text/html": [
       "<div>\n",
       "<style scoped>\n",
       "    .dataframe tbody tr th:only-of-type {\n",
       "        vertical-align: middle;\n",
       "    }\n",
       "\n",
       "    .dataframe tbody tr th {\n",
       "        vertical-align: top;\n",
       "    }\n",
       "\n",
       "    .dataframe thead th {\n",
       "        text-align: right;\n",
       "    }\n",
       "</style>\n",
       "<table border=\"1\" class=\"dataframe\">\n",
       "  <thead>\n",
       "    <tr style=\"text-align: right;\">\n",
       "      <th></th>\n",
       "      <th>iso3c</th>\n",
       "      <th>forests_2000</th>\n",
       "      <th>forests_2020</th>\n",
       "    </tr>\n",
       "  </thead>\n",
       "  <tbody>\n",
       "    <tr>\n",
       "      <th>0</th>\n",
       "      <td>AFG</td>\n",
       "      <td>1.9</td>\n",
       "      <td>1.9</td>\n",
       "    </tr>\n",
       "    <tr>\n",
       "      <th>1</th>\n",
       "      <td>ALB</td>\n",
       "      <td>28.1</td>\n",
       "      <td>28.8</td>\n",
       "    </tr>\n",
       "    <tr>\n",
       "      <th>2</th>\n",
       "      <td>DZA</td>\n",
       "      <td>0.7</td>\n",
       "      <td>0.8</td>\n",
       "    </tr>\n",
       "    <tr>\n",
       "      <th>3</th>\n",
       "      <td>ASM</td>\n",
       "      <td>88.7</td>\n",
       "      <td>85.7</td>\n",
       "    </tr>\n",
       "    <tr>\n",
       "      <th>4</th>\n",
       "      <td>AND</td>\n",
       "      <td>34.0</td>\n",
       "      <td>34.0</td>\n",
       "    </tr>\n",
       "  </tbody>\n",
       "</table>\n",
       "</div>"
      ],
      "text/plain": [
       "  iso3c  forests_2000  forests_2020\n",
       "0   AFG           1.9           1.9\n",
       "1   ALB          28.1          28.8\n",
       "2   DZA           0.7           0.8\n",
       "3   ASM          88.7          85.7\n",
       "4   AND          34.0          34.0"
      ]
     },
     "execution_count": 3,
     "metadata": {},
     "output_type": "execute_result"
    }
   ],
   "source": [
    "# Removing the column 'trend'\n",
    "df = df[['iso3c', 'forests_2000', 'forests_2020']]\n",
    "\n",
    "# Preview:\n",
    "df.head(5)"
   ]
  },
  {
   "cell_type": "code",
   "execution_count": 4,
   "id": "73b99754",
   "metadata": {},
   "outputs": [
    {
     "data": {
      "text/html": [
       "<div>\n",
       "<style scoped>\n",
       "    .dataframe tbody tr th:only-of-type {\n",
       "        vertical-align: middle;\n",
       "    }\n",
       "\n",
       "    .dataframe tbody tr th {\n",
       "        vertical-align: top;\n",
       "    }\n",
       "\n",
       "    .dataframe thead th {\n",
       "        text-align: right;\n",
       "    }\n",
       "</style>\n",
       "<table border=\"1\" class=\"dataframe\">\n",
       "  <thead>\n",
       "    <tr style=\"text-align: right;\">\n",
       "      <th></th>\n",
       "      <th>country</th>\n",
       "      <th>f_2000</th>\n",
       "      <th>f_2020</th>\n",
       "    </tr>\n",
       "  </thead>\n",
       "  <tbody>\n",
       "    <tr>\n",
       "      <th>0</th>\n",
       "      <td>AFG</td>\n",
       "      <td>1.9</td>\n",
       "      <td>1.9</td>\n",
       "    </tr>\n",
       "    <tr>\n",
       "      <th>1</th>\n",
       "      <td>ALB</td>\n",
       "      <td>28.1</td>\n",
       "      <td>28.8</td>\n",
       "    </tr>\n",
       "    <tr>\n",
       "      <th>2</th>\n",
       "      <td>DZA</td>\n",
       "      <td>0.7</td>\n",
       "      <td>0.8</td>\n",
       "    </tr>\n",
       "    <tr>\n",
       "      <th>3</th>\n",
       "      <td>ASM</td>\n",
       "      <td>88.7</td>\n",
       "      <td>85.7</td>\n",
       "    </tr>\n",
       "    <tr>\n",
       "      <th>4</th>\n",
       "      <td>AND</td>\n",
       "      <td>34.0</td>\n",
       "      <td>34.0</td>\n",
       "    </tr>\n",
       "  </tbody>\n",
       "</table>\n",
       "</div>"
      ],
      "text/plain": [
       "  country  f_2000  f_2020\n",
       "0     AFG     1.9     1.9\n",
       "1     ALB    28.1    28.8\n",
       "2     DZA     0.7     0.8\n",
       "3     ASM    88.7    85.7\n",
       "4     AND    34.0    34.0"
      ]
     },
     "execution_count": 4,
     "metadata": {},
     "output_type": "execute_result"
    }
   ],
   "source": [
    "# To make easier the understanding, we will rename the columns:\n",
    "\n",
    "# Renaming\n",
    "new_names = {'iso3c': 'country', 'forests_2000': 'f_2000', 'forests_2020': 'f_2020'}\n",
    "df = df.rename(columns=new_names)\n",
    "\n",
    "# Preview:\n",
    "df.head(5)"
   ]
  },
  {
   "attachments": {},
   "cell_type": "markdown",
   "id": "77c44653",
   "metadata": {},
   "source": [
    "To check the duplicates, we will check first in the dataset to search duplicate lines. And after, just on the country column, to search if there exists duplicate countries."
   ]
  },
  {
   "cell_type": "code",
   "execution_count": 8,
   "id": "67436fdb",
   "metadata": {},
   "outputs": [
    {
     "name": "stdout",
     "output_type": "stream",
     "text": [
      "Total duplicates on dataset:  0      False\n",
      "1      False\n",
      "2      False\n",
      "3      False\n",
      "4      False\n",
      "       ...  \n",
      "232    False\n",
      "233    False\n",
      "234    False\n",
      "235    False\n",
      "236    False\n",
      "Length: 237, dtype: bool\n"
     ]
    }
   ],
   "source": [
    "# Checking the Duplicates on Dataset:\n",
    "total_duplicates = df.duplicated()\n",
    "print(\"Total duplicates on dataset: \",total_duplicates)"
   ]
  },
  {
   "cell_type": "code",
   "execution_count": 9,
   "id": "8e3110cf",
   "metadata": {},
   "outputs": [
    {
     "name": "stdout",
     "output_type": "stream",
     "text": [
      "Duplicated countries:  0      False\n",
      "1      False\n",
      "2      False\n",
      "3      False\n",
      "4      False\n",
      "       ...  \n",
      "232    False\n",
      "233    False\n",
      "234    False\n",
      "235    False\n",
      "236    False\n",
      "Length: 237, dtype: bool\n"
     ]
    }
   ],
   "source": [
    "# Checking the Duplicates on country column:\n",
    "country_duplicates = df.duplicated(subset=['country'])\n",
    "print(\"Duplicated countries: \",country_duplicates)"
   ]
  },
  {
   "attachments": {},
   "cell_type": "markdown",
   "id": "b4ad66fc",
   "metadata": {},
   "source": [
    "As the dataset do not show any duplicated value, we don't need any data treatment."
   ]
  },
  {
   "cell_type": "code",
   "execution_count": 11,
   "id": "0f5c17c4",
   "metadata": {},
   "outputs": [
    {
     "name": "stdout",
     "output_type": "stream",
     "text": [
      "<class 'pandas.core.frame.DataFrame'>\n",
      "RangeIndex: 237 entries, 0 to 236\n",
      "Data columns (total 3 columns):\n",
      " #   Column   Non-Null Count  Dtype  \n",
      "---  ------   --------------  -----  \n",
      " 0   country  237 non-null    object \n",
      " 1   f_2000   237 non-null    float64\n",
      " 2   f_2020   237 non-null    float64\n",
      "dtypes: float64(2), object(1)\n",
      "memory usage: 5.7+ KB\n"
     ]
    }
   ],
   "source": [
    "# Checking the data type:\n",
    "df.info()"
   ]
  },
  {
   "cell_type": "code",
   "execution_count": 12,
   "id": "6778040b",
   "metadata": {},
   "outputs": [
    {
     "data": {
      "text/html": [
       "<div>\n",
       "<style scoped>\n",
       "    .dataframe tbody tr th:only-of-type {\n",
       "        vertical-align: middle;\n",
       "    }\n",
       "\n",
       "    .dataframe tbody tr th {\n",
       "        vertical-align: top;\n",
       "    }\n",
       "\n",
       "    .dataframe thead th {\n",
       "        text-align: right;\n",
       "    }\n",
       "</style>\n",
       "<table border=\"1\" class=\"dataframe\">\n",
       "  <thead>\n",
       "    <tr style=\"text-align: right;\">\n",
       "      <th></th>\n",
       "      <th>f_2000</th>\n",
       "      <th>f_2020</th>\n",
       "    </tr>\n",
       "  </thead>\n",
       "  <tbody>\n",
       "    <tr>\n",
       "      <th>count</th>\n",
       "      <td>237.000000</td>\n",
       "      <td>237.000000</td>\n",
       "    </tr>\n",
       "    <tr>\n",
       "      <th>mean</th>\n",
       "      <td>32.255274</td>\n",
       "      <td>31.585654</td>\n",
       "    </tr>\n",
       "    <tr>\n",
       "      <th>std</th>\n",
       "      <td>25.366225</td>\n",
       "      <td>24.744673</td>\n",
       "    </tr>\n",
       "    <tr>\n",
       "      <th>min</th>\n",
       "      <td>0.000000</td>\n",
       "      <td>0.000000</td>\n",
       "    </tr>\n",
       "    <tr>\n",
       "      <th>25%</th>\n",
       "      <td>9.900000</td>\n",
       "      <td>10.400000</td>\n",
       "    </tr>\n",
       "    <tr>\n",
       "      <th>50%</th>\n",
       "      <td>30.300000</td>\n",
       "      <td>30.300000</td>\n",
       "    </tr>\n",
       "    <tr>\n",
       "      <th>75%</th>\n",
       "      <td>50.900000</td>\n",
       "      <td>49.800000</td>\n",
       "    </tr>\n",
       "    <tr>\n",
       "      <th>max</th>\n",
       "      <td>98.300000</td>\n",
       "      <td>97.400000</td>\n",
       "    </tr>\n",
       "  </tbody>\n",
       "</table>\n",
       "</div>"
      ],
      "text/plain": [
       "           f_2000      f_2020\n",
       "count  237.000000  237.000000\n",
       "mean    32.255274   31.585654\n",
       "std     25.366225   24.744673\n",
       "min      0.000000    0.000000\n",
       "25%      9.900000   10.400000\n",
       "50%     30.300000   30.300000\n",
       "75%     50.900000   49.800000\n",
       "max     98.300000   97.400000"
      ]
     },
     "execution_count": 12,
     "metadata": {},
     "output_type": "execute_result"
    }
   ],
   "source": [
    "# Main information:\n",
    "df.describe()"
   ]
  },
  {
   "attachments": {},
   "cell_type": "markdown",
   "id": "038646f1",
   "metadata": {},
   "source": [
    "### Joining Dataset for plus information\n",
    "\n",
    "LINK: https://datahub.io/core/country-codes#data"
   ]
  }
 ],
 "metadata": {
  "kernelspec": {
   "display_name": "Python 3 (ipykernel)",
   "language": "python",
   "name": "python3"
  },
  "language_info": {
   "codemirror_mode": {
    "name": "ipython",
    "version": 3
   },
   "file_extension": ".py",
   "mimetype": "text/x-python",
   "name": "python",
   "nbconvert_exporter": "python",
   "pygments_lexer": "ipython3",
   "version": "3.11.3"
  }
 },
 "nbformat": 4,
 "nbformat_minor": 5
}
